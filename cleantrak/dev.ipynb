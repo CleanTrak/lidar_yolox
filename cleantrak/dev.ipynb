{
 "cells": [
  {
   "cell_type": "code",
   "id": "initial_id",
   "metadata": {
    "collapsed": true,
    "ExecuteTime": {
     "end_time": "2025-10-31T01:42:33.918772Z",
     "start_time": "2025-10-31T01:42:33.727195Z"
    }
   },
   "source": [
    "# %load_ext autoreload\n",
    "# %autoreload 2\n",
    "import json\n",
    "import os\n",
    "\n",
    "import numpy as np\n",
    "import pycocotools\n",
    "import cv2\n",
    "import onnxruntime as ort\n",
    "import sys\n",
    "sys.path.append(os.path.join(os.getcwd(), \"..\"))\n",
    "from cleantrak.coco_utils import get_labels_list_from_coco\n",
    "from pycocotools.coco import COCO\n",
    "ann_path = \"/home/spometun/Documents/my/gig/datasets/sumeet1/annotations/instances_default.json\"\n",
    "from cleantrak.onnx_object_detector import OnnxObjectDetector\n",
    "from cleantrak.object_detection_interface import ObjectDetectorInterface, Object2D, BBox2D\n",
    "from cleantrak.yolox_utils import yolox_preprocess, yolox_postprocess\n",
    "\n",
    "\n",
    "#cat_map"
   ],
   "outputs": [],
   "execution_count": 1
  },
  {
   "cell_type": "code",
   "id": "155eefbe",
   "metadata": {
    "ExecuteTime": {
     "end_time": "2025-10-31T01:42:35.950109Z",
     "start_time": "2025-10-31T01:42:35.879641Z"
    }
   },
   "source": [
    "model_path = \"/home/spometun/Documents/my/gig/code/yolox/cleantrak/mu.onnx\"\n",
    "detector = OnnxObjectDetector(model_path)"
   ],
   "outputs": [],
   "execution_count": 2
  },
  {
   "cell_type": "code",
   "id": "d00929ed",
   "metadata": {
    "ExecuteTime": {
     "end_time": "2025-10-31T01:42:37.887569Z",
     "start_time": "2025-10-31T01:42:37.804817Z"
    }
   },
   "source": [
    "image_path = \"/home/spometun/Documents/my/gig/datasets/sumeet1/images/default/0300.png\"\n",
    "image = cv2.imread(image_path)\n",
    "image = cv2.cvtColor(image, cv2.COLOR_BGR2RGB)\n",
    "objects = detector.detect_objects(image)"
   ],
   "outputs": [],
   "execution_count": 3
  },
  {
   "cell_type": "code",
   "execution_count": 17,
   "id": "d990a23c071e073c",
   "metadata": {
    "ExecuteTime": {
     "end_time": "2025-10-30T22:04:29.144094Z",
     "start_time": "2025-10-30T22:04:29.070352Z"
    }
   },
   "outputs": [
    {
     "data": {
      "text/plain": [
       "4"
      ]
     },
     "execution_count": 17,
     "metadata": {},
     "output_type": "execute_result"
    }
   ],
   "source": [
    "model_path = \"mu.onnx\"\n",
    "ort.get_available_providers()\n",
    "s = ort.InferenceSession(model_path)\n",
    "input_shape_nhwc = s._inputs_meta[0].shape\n",
    "labels = s._model_meta.custom_metadata_map[\"labels\"]\n",
    "labels = json.loads(labels)\n",
    "len(input_shape_nhwc)"
   ]
  },
  {
   "cell_type": "code",
   "execution_count": null,
   "id": "ae018b8d493b1bd5",
   "metadata": {},
   "outputs": [],
   "source": [
    "\n",
    "m = onnx.load(\"mu.onnx\")\n",
    "meta = m.metadata_props\n",
    "meta = {p.key: p.value for p in meta}\n",
    "labels =  meta[\"labels\"]\n",
    "\n",
    "# if you stored JSON like in your example\n",
    "labels = json.loads(labels)\n",
    "print(labels)\n",
    "# print(meta)\n"
   ]
  },
  {
   "cell_type": "code",
   "execution_count": 13,
   "id": "d4cdadac4a4bb178",
   "metadata": {
    "ExecuteTime": {
     "end_time": "2025-10-29T00:39:10.688131Z",
     "start_time": "2025-10-29T00:39:10.684671Z"
    }
   },
   "outputs": [],
   "source": [
    "import torch\n",
    "\n",
    "def get_num_classes_of_yolox_checkpoint(ckpt_path: str) -> int:\n",
    "    ckpt = torch.load(ckpt_path, weights_only=False)\n",
    "    if \"model\" in ckpt:\n",
    "        ckpt = ckpt[\"model\"]\n",
    "    for k, v in ckpt.items():\n",
    "        if \"cls_preds\" in k and \"weight\" in k:\n",
    "            return v.shape[0]\n",
    "    assert False, f\"Couldn't guess yolox num classes from checkpoint {ckpt_path}\""
   ]
  },
  {
   "cell_type": "code",
   "execution_count": 14,
   "id": "8b33dc3ebd5e9614",
   "metadata": {
    "ExecuteTime": {
     "end_time": "2025-10-29T00:39:12.598227Z",
     "start_time": "2025-10-29T00:39:12.538965Z"
    }
   },
   "outputs": [
    {
     "data": {
      "text/plain": [
       "2"
      ]
     },
     "execution_count": 14,
     "metadata": {},
     "output_type": "execute_result"
    }
   ],
   "source": [
    "get_num_classes_of_yolox_checkpoint(\"/home/spometun/temp/yolox/m1/best_ckpt.pth\")"
   ]
  }
 ],
 "metadata": {
  "kernelspec": {
   "display_name": "yolox",
   "language": "python",
   "name": "python3"
  },
  "language_info": {
   "codemirror_mode": {
    "name": "ipython",
    "version": 3
   },
   "file_extension": ".py",
   "mimetype": "text/x-python",
   "name": "python",
   "nbconvert_exporter": "python",
   "pygments_lexer": "ipython3",
   "version": "3.12.12"
  }
 },
 "nbformat": 4,
 "nbformat_minor": 5
}
