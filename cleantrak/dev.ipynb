{
 "cells": [
  {
   "cell_type": "code",
   "id": "initial_id",
   "metadata": {
    "collapsed": true,
    "ExecuteTime": {
     "end_time": "2025-10-30T13:27:11.367204Z",
     "start_time": "2025-10-30T13:27:11.357537Z"
    }
   },
   "source": [
    "import os\n",
    "import pycocotools\n",
    "from cleantrak.coco_utils import get_labels_list_from_coco\n",
    "from pycocotools.coco import COCO\n",
    "ann_path = \"/home/spometun/Documents/my/gig/datasets/sumeet1/annotations/instances_default.json\"\n",
    "\n",
    "\n",
    "coco = COCO(ann_path)\n",
    "\n",
    "\n",
    "get_labels_list_from_coco(coco)\n",
    "#cat_map"
   ],
   "outputs": [
    {
     "name": "stdout",
     "output_type": "stream",
     "text": [
      "loading annotations into memory...\n",
      "Done (t=0.00s)\n",
      "creating index...\n",
      "index created!\n"
     ]
    },
    {
     "data": {
      "text/plain": [
       "['vehicle', 'person']"
      ]
     },
     "execution_count": 25,
     "metadata": {},
     "output_type": "execute_result"
    }
   ],
   "execution_count": 25
  },
  {
   "metadata": {},
   "cell_type": "code",
   "outputs": [],
   "execution_count": null,
   "source": [
    "\n",
    "m = onnx.load(\"mu.onnx\")\n",
    "meta = m.metadata_props\n",
    "meta = {p.key: p.value for p in meta}\n",
    "labels =  meta[\"labels\"]\n",
    "\n",
    "# if you stored JSON like in your example\n",
    "labels = json.loads(labels)\n",
    "print(labels)\n",
    "# print(meta)\n"
   ],
   "id": "ae018b8d493b1bd5"
  },
  {
   "metadata": {
    "ExecuteTime": {
     "end_time": "2025-10-29T00:39:10.688131Z",
     "start_time": "2025-10-29T00:39:10.684671Z"
    }
   },
   "cell_type": "code",
   "source": [
    "import torch\n",
    "\n",
    "def get_num_classes_of_yolox_checkpoint(ckpt_path: str) -> int:\n",
    "    ckpt = torch.load(ckpt_path, weights_only=False)\n",
    "    if \"model\" in ckpt:\n",
    "        ckpt = ckpt[\"model\"]\n",
    "    for k, v in ckpt.items():\n",
    "        if \"cls_preds\" in k and \"weight\" in k:\n",
    "            return v.shape[0]\n",
    "    assert False, f\"Couldn't guess yolox num classes from checkpoint {ckpt_path}\""
   ],
   "id": "d4cdadac4a4bb178",
   "outputs": [],
   "execution_count": 13
  },
  {
   "metadata": {
    "ExecuteTime": {
     "end_time": "2025-10-29T00:39:12.598227Z",
     "start_time": "2025-10-29T00:39:12.538965Z"
    }
   },
   "cell_type": "code",
   "source": "get_num_classes_of_yolox_checkpoint(\"/home/spometun/temp/yolox/m1/best_ckpt.pth\")",
   "id": "8b33dc3ebd5e9614",
   "outputs": [
    {
     "data": {
      "text/plain": [
       "2"
      ]
     },
     "execution_count": 14,
     "metadata": {},
     "output_type": "execute_result"
    }
   ],
   "execution_count": 14
  }
 ],
 "metadata": {
  "kernelspec": {
   "display_name": "Python 3",
   "language": "python",
   "name": "python3"
  },
  "language_info": {
   "codemirror_mode": {
    "name": "ipython",
    "version": 2
   },
   "file_extension": ".py",
   "mimetype": "text/x-python",
   "name": "python",
   "nbconvert_exporter": "python",
   "pygments_lexer": "ipython2",
   "version": "2.7.6"
  }
 },
 "nbformat": 4,
 "nbformat_minor": 5
}
